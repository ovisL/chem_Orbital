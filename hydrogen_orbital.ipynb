{
 "cells": [
  {
   "cell_type": "code",
   "execution_count": 1,
   "metadata": {},
   "outputs": [
    {
     "name": "stdout",
     "output_type": "stream",
     "text": [
      "Python version = 3.11.3 | packaged by Anaconda, Inc. | (main, Apr 19 2023, 23:46:34) [MSC v.1916 64 bit (AMD64)]\n",
      "Machine readable Python version = sys.version_info(major=3, minor=11, micro=3, releaselevel='final', serial=0)\n"
     ]
    },
    {
     "data": {
      "text/plain": [
       "3"
      ]
     },
     "execution_count": 1,
     "metadata": {},
     "output_type": "execute_result"
    }
   ],
   "source": [
    "import sys #texting for the right version of Python to use with mayavi\n",
    "print(\"Python version = {}\".format(sys.version))\n",
    "print(\"Machine readable Python version = {}\".format(sys.version_info))\n",
    "sys.version_info[0]\n"
   ]
  },
  {
   "cell_type": "code",
   "execution_count": 2,
   "metadata": {},
   "outputs": [
    {
     "name": "stdout",
     "output_type": "stream",
     "text": [
      "The library version numbers used in this notebook are:\n",
      "The use of mayavi.mlab to display the orbital requires the use of Python 2.7.3\n",
      "numpy version:   1.24.3\n",
      "sympy version:   1.11.1\n",
      "IPython version: 8.12.0\n"
     ]
    }
   ],
   "source": [
    "print(\"The library version numbers used in this notebook are:\")\n",
    "if sys.version_info[0]==2:\n",
    "    #this requires the use of no higher than python 2.7 \n",
    "    from mayavi import __version__ as mayavi_version  \n",
    "#     import scipy.special\n",
    "#     import scipy.misc\n",
    "    from mayavi import mlab\n",
    "    print(\"mayavi version:  %s\"%mayavi_version)\n",
    "else:\n",
    "    print(\"The use of mayavi.mlab to display the orbital requires the \"+\\\n",
    "          \"use of Python 2.7.3\")\n",
    " \n",
    "from IPython import __version__ as IPython_version \n",
    "from IPython.display import Latex\n",
    "import numpy as np\n",
    "import sympy\n",
    "\n",
    "#\"I\" is sympy's imaginary number\n",
    "from sympy import symbols,I,latex,pi,diff \n",
    "from sympy.utilities.lambdify import lambdastr\n",
    "from sympy import factorial as fac\n",
    "from sympy.functions import Abs,sqrt,exp,cos,sin\n",
    "from sympy import re, im, simplify\n",
    "\n",
    "#display the latex representation of a symbolic variable by default.\n",
    "from sympy import init_printing \n",
    "init_printing(use_unicode=True)\n",
    "\n",
    "a_0,z,r=symbols(\"a_0,z,r\")\n",
    "n,m,l=symbols(\"n,m,l\",integer=True)\n",
    "int_m=symbols(\"int_m\",integer=True)\n",
    "theta,phi = symbols(\"\\theta,\\phi\",real=True)\n",
    "\n",
    "#The variables will used with lambdify...\n",
    "angle_theta, angle_phi, radius = symbols(\"angle_theta,angle_phi,radius\",\n",
    "                                         real=True)\n",
    "\n",
    "\n",
    "print(\"numpy version:   %s\"%np.__version__)\n",
    "print(\"sympy version:   %s\"%sympy.__version__)\n",
    "\n",
    "print(\"IPython version: %s\"%IPython_version)"
   ]
  },
  {
   "cell_type": "code",
   "execution_count": 3,
   "metadata": {},
   "outputs": [],
   "source": [
    "def P_l(l,theta): #valid for l greater than equal to zero\n",
    "    \"\"\"Legendre polynomial\"\"\"\n",
    "    if l>=0:\n",
    "        eq=diff((cos(theta)**2-1)**l,cos(theta),l)\n",
    "    else:\n",
    "        print(\"l must be an integer equal to 0 or greater\")\n",
    "        raise ValueError\n",
    "    return 1/(2**l*fac(l))*eq"
   ]
  },
  {
   "cell_type": "code",
   "execution_count": 5,
   "metadata": {},
   "outputs": [
    {
     "data": {
      "image/png": "[encoded data removed]",
      "text/latex": [
       "$\\displaystyle 1$"
      ],
      "text/plain": [
       "1"
      ]
     },
     "execution_count": 5,
     "metadata": {},
     "output_type": "execute_result"
    }
   ],
   "source": [
    "P_l(0,theta)\n",
    "     "
   ]
  },
  {
   "cell_type": "code",
   "execution_count": 7,
   "metadata": {},
   "outputs": [
    {
     "ename": "ValueError",
     "evalue": "\nCan't calculate derivative wrt cos(30).",
     "output_type": "error",
     "traceback": [
      "\u001b[1;31m---------------------------------------------------------------------------\u001b[0m",
      "\u001b[1;31mValueError\u001b[0m                                Traceback (most recent call last)",
      "Cell \u001b[1;32mIn[7], line 1\u001b[0m\n\u001b[1;32m----> 1\u001b[0m P_l(\u001b[39m1\u001b[39m,\u001b[39m'\u001b[39m\u001b[39m30\u001b[39m\u001b[39m'\u001b[39m)\n",
      "Cell \u001b[1;32mIn[3], line 4\u001b[0m, in \u001b[0;36mP_l\u001b[1;34m(l, theta)\u001b[0m\n\u001b[0;32m      2\u001b[0m \u001b[39m\u001b[39m\u001b[39m\"\"\"Legendre polynomial\"\"\"\u001b[39;00m\n\u001b[0;32m      3\u001b[0m \u001b[39mif\u001b[39;00m l\u001b[39m>\u001b[39m\u001b[39m=\u001b[39m\u001b[39m0\u001b[39m:\n\u001b[1;32m----> 4\u001b[0m     eq\u001b[39m=\u001b[39mdiff((cos(theta)\u001b[39m*\u001b[39m\u001b[39m*\u001b[39m\u001b[39m2\u001b[39m\u001b[39m-\u001b[39m\u001b[39m1\u001b[39m)\u001b[39m*\u001b[39m\u001b[39m*\u001b[39ml,cos(theta),l)\n\u001b[0;32m      5\u001b[0m \u001b[39melse\u001b[39;00m:\n\u001b[0;32m      6\u001b[0m     \u001b[39mprint\u001b[39m(\u001b[39m\"\u001b[39m\u001b[39ml must be an integer equal to 0 or greater\u001b[39m\u001b[39m\"\u001b[39m)\n",
      "File \u001b[1;32mc:\\Users\\didhw\\anaconda3\\Lib\\site-packages\\sympy\\core\\function.py:2490\u001b[0m, in \u001b[0;36mdiff\u001b[1;34m(f, *symbols, **kwargs)\u001b[0m\n\u001b[0;32m   2426\u001b[0m \u001b[39m\u001b[39m\u001b[39m\"\"\"\u001b[39;00m\n\u001b[0;32m   2427\u001b[0m \u001b[39mDifferentiate f with respect to symbols.\u001b[39;00m\n\u001b[0;32m   2428\u001b[0m \n\u001b[1;32m   (...)\u001b[0m\n\u001b[0;32m   2487\u001b[0m \n\u001b[0;32m   2488\u001b[0m \u001b[39m\"\"\"\u001b[39;00m\n\u001b[0;32m   2489\u001b[0m \u001b[39mif\u001b[39;00m \u001b[39mhasattr\u001b[39m(f, \u001b[39m'\u001b[39m\u001b[39mdiff\u001b[39m\u001b[39m'\u001b[39m):\n\u001b[1;32m-> 2490\u001b[0m     \u001b[39mreturn\u001b[39;00m f\u001b[39m.\u001b[39mdiff(\u001b[39m*\u001b[39msymbols, \u001b[39m*\u001b[39m\u001b[39m*\u001b[39mkwargs)\n\u001b[0;32m   2491\u001b[0m kwargs\u001b[39m.\u001b[39msetdefault(\u001b[39m'\u001b[39m\u001b[39mevaluate\u001b[39m\u001b[39m'\u001b[39m, \u001b[39mTrue\u001b[39;00m)\n\u001b[0;32m   2492\u001b[0m \u001b[39mreturn\u001b[39;00m _derivative_dispatch(f, \u001b[39m*\u001b[39msymbols, \u001b[39m*\u001b[39m\u001b[39m*\u001b[39mkwargs)\n",
      "File \u001b[1;32mc:\\Users\\didhw\\anaconda3\\Lib\\site-packages\\sympy\\core\\expr.py:3555\u001b[0m, in \u001b[0;36mExpr.diff\u001b[1;34m(self, *symbols, **assumptions)\u001b[0m\n\u001b[0;32m   3553\u001b[0m \u001b[39mdef\u001b[39;00m \u001b[39mdiff\u001b[39m(\u001b[39mself\u001b[39m, \u001b[39m*\u001b[39msymbols, \u001b[39m*\u001b[39m\u001b[39m*\u001b[39massumptions):\n\u001b[0;32m   3554\u001b[0m     assumptions\u001b[39m.\u001b[39msetdefault(\u001b[39m\"\u001b[39m\u001b[39mevaluate\u001b[39m\u001b[39m\"\u001b[39m, \u001b[39mTrue\u001b[39;00m)\n\u001b[1;32m-> 3555\u001b[0m     \u001b[39mreturn\u001b[39;00m _derivative_dispatch(\u001b[39mself\u001b[39m, \u001b[39m*\u001b[39msymbols, \u001b[39m*\u001b[39m\u001b[39m*\u001b[39massumptions)\n",
      "File \u001b[1;32mc:\\Users\\didhw\\anaconda3\\Lib\\site-packages\\sympy\\core\\function.py:1914\u001b[0m, in \u001b[0;36m_derivative_dispatch\u001b[1;34m(expr, *variables, **kwargs)\u001b[0m\n\u001b[0;32m   1912\u001b[0m     \u001b[39mfrom\u001b[39;00m \u001b[39msympy\u001b[39;00m\u001b[39m.\u001b[39;00m\u001b[39mtensor\u001b[39;00m\u001b[39m.\u001b[39;00m\u001b[39marray\u001b[39;00m\u001b[39m.\u001b[39;00m\u001b[39marray_derivatives\u001b[39;00m \u001b[39mimport\u001b[39;00m ArrayDerivative\n\u001b[0;32m   1913\u001b[0m     \u001b[39mreturn\u001b[39;00m ArrayDerivative(expr, \u001b[39m*\u001b[39mvariables, \u001b[39m*\u001b[39m\u001b[39m*\u001b[39mkwargs)\n\u001b[1;32m-> 1914\u001b[0m \u001b[39mreturn\u001b[39;00m Derivative(expr, \u001b[39m*\u001b[39mvariables, \u001b[39m*\u001b[39m\u001b[39m*\u001b[39mkwargs)\n",
      "File \u001b[1;32mc:\\Users\\didhw\\anaconda3\\Lib\\site-packages\\sympy\\core\\function.py:1339\u001b[0m, in \u001b[0;36mDerivative.__new__\u001b[1;34m(cls, expr, *variables, **kwargs)\u001b[0m\n\u001b[0;32m   1337\u001b[0m     \u001b[39mif\u001b[39;00m \u001b[39mnot\u001b[39;00m v\u001b[39m.\u001b[39m_diff_wrt:\n\u001b[0;32m   1338\u001b[0m         __ \u001b[39m=\u001b[39m \u001b[39m'\u001b[39m\u001b[39m'\u001b[39m  \u001b[39m# filler to make error message neater\u001b[39;00m\n\u001b[1;32m-> 1339\u001b[0m         \u001b[39mraise\u001b[39;00m \u001b[39mValueError\u001b[39;00m(filldedent(\u001b[39m'''\u001b[39m\n\u001b[0;32m   1340\u001b[0m \u001b[39m            Can\u001b[39m\u001b[39m'\u001b[39m\u001b[39mt calculate derivative wrt \u001b[39m\u001b[39m%s\u001b[39;00m\u001b[39m.\u001b[39m\u001b[39m%s\u001b[39;00m\u001b[39m'''\u001b[39m \u001b[39m%\u001b[39m (v,\n\u001b[0;32m   1341\u001b[0m             __)))\n\u001b[0;32m   1343\u001b[0m \u001b[39m# We make a special case for 0th derivative, because there is no\u001b[39;00m\n\u001b[0;32m   1344\u001b[0m \u001b[39m# good way to unambiguously print this.\u001b[39;00m\n\u001b[0;32m   1345\u001b[0m \u001b[39mif\u001b[39;00m \u001b[39mlen\u001b[39m(variable_count) \u001b[39m==\u001b[39m \u001b[39m0\u001b[39m:\n",
      "\u001b[1;31mValueError\u001b[0m: \nCan't calculate derivative wrt cos(30)."
     ]
    }
   ],
   "source": [
    "P_l(1,theta)"
   ]
  },
  {
   "cell_type": "code",
   "execution_count": 6,
   "metadata": {},
   "outputs": [
    {
     "ename": "ValueError",
     "evalue": "\nCan't calculate derivative wrt cos(heta).",
     "output_type": "error",
     "traceback": [
      "\u001b[1;31m---------------------------------------------------------------------------\u001b[0m",
      "\u001b[1;31mValueError\u001b[0m                                Traceback (most recent call last)",
      "Cell \u001b[1;32mIn[6], line 1\u001b[0m\n\u001b[1;32m----> 1\u001b[0m P_l(\u001b[39m2\u001b[39m,theta)\n",
      "Cell \u001b[1;32mIn[3], line 4\u001b[0m, in \u001b[0;36mP_l\u001b[1;34m(l, theta)\u001b[0m\n\u001b[0;32m      2\u001b[0m \u001b[39m\u001b[39m\u001b[39m\"\"\"Legendre polynomial\"\"\"\u001b[39;00m\n\u001b[0;32m      3\u001b[0m \u001b[39mif\u001b[39;00m l\u001b[39m>\u001b[39m\u001b[39m=\u001b[39m\u001b[39m0\u001b[39m:\n\u001b[1;32m----> 4\u001b[0m     eq\u001b[39m=\u001b[39mdiff((cos(theta)\u001b[39m*\u001b[39m\u001b[39m*\u001b[39m\u001b[39m2\u001b[39m\u001b[39m-\u001b[39m\u001b[39m1\u001b[39m)\u001b[39m*\u001b[39m\u001b[39m*\u001b[39ml,cos(theta),l)\n\u001b[0;32m      5\u001b[0m \u001b[39melse\u001b[39;00m:\n\u001b[0;32m      6\u001b[0m     \u001b[39mprint\u001b[39m(\u001b[39m\"\u001b[39m\u001b[39ml must be an integer equal to 0 or greater\u001b[39m\u001b[39m\"\u001b[39m)\n",
      "File \u001b[1;32mc:\\Users\\didhw\\anaconda3\\Lib\\site-packages\\sympy\\core\\function.py:2490\u001b[0m, in \u001b[0;36mdiff\u001b[1;34m(f, *symbols, **kwargs)\u001b[0m\n\u001b[0;32m   2426\u001b[0m \u001b[39m\u001b[39m\u001b[39m\"\"\"\u001b[39;00m\n\u001b[0;32m   2427\u001b[0m \u001b[39mDifferentiate f with respect to symbols.\u001b[39;00m\n\u001b[0;32m   2428\u001b[0m \n\u001b[1;32m   (...)\u001b[0m\n\u001b[0;32m   2487\u001b[0m \n\u001b[0;32m   2488\u001b[0m \u001b[39m\"\"\"\u001b[39;00m\n\u001b[0;32m   2489\u001b[0m \u001b[39mif\u001b[39;00m \u001b[39mhasattr\u001b[39m(f, \u001b[39m'\u001b[39m\u001b[39mdiff\u001b[39m\u001b[39m'\u001b[39m):\n\u001b[1;32m-> 2490\u001b[0m     \u001b[39mreturn\u001b[39;00m f\u001b[39m.\u001b[39mdiff(\u001b[39m*\u001b[39msymbols, \u001b[39m*\u001b[39m\u001b[39m*\u001b[39mkwargs)\n\u001b[0;32m   2491\u001b[0m kwargs\u001b[39m.\u001b[39msetdefault(\u001b[39m'\u001b[39m\u001b[39mevaluate\u001b[39m\u001b[39m'\u001b[39m, \u001b[39mTrue\u001b[39;00m)\n\u001b[0;32m   2492\u001b[0m \u001b[39mreturn\u001b[39;00m _derivative_dispatch(f, \u001b[39m*\u001b[39msymbols, \u001b[39m*\u001b[39m\u001b[39m*\u001b[39mkwargs)\n",
      "File \u001b[1;32mc:\\Users\\didhw\\anaconda3\\Lib\\site-packages\\sympy\\core\\expr.py:3555\u001b[0m, in \u001b[0;36mExpr.diff\u001b[1;34m(self, *symbols, **assumptions)\u001b[0m\n\u001b[0;32m   3553\u001b[0m \u001b[39mdef\u001b[39;00m \u001b[39mdiff\u001b[39m(\u001b[39mself\u001b[39m, \u001b[39m*\u001b[39msymbols, \u001b[39m*\u001b[39m\u001b[39m*\u001b[39massumptions):\n\u001b[0;32m   3554\u001b[0m     assumptions\u001b[39m.\u001b[39msetdefault(\u001b[39m\"\u001b[39m\u001b[39mevaluate\u001b[39m\u001b[39m\"\u001b[39m, \u001b[39mTrue\u001b[39;00m)\n\u001b[1;32m-> 3555\u001b[0m     \u001b[39mreturn\u001b[39;00m _derivative_dispatch(\u001b[39mself\u001b[39m, \u001b[39m*\u001b[39msymbols, \u001b[39m*\u001b[39m\u001b[39m*\u001b[39massumptions)\n",
      "File \u001b[1;32mc:\\Users\\didhw\\anaconda3\\Lib\\site-packages\\sympy\\core\\function.py:1914\u001b[0m, in \u001b[0;36m_derivative_dispatch\u001b[1;34m(expr, *variables, **kwargs)\u001b[0m\n\u001b[0;32m   1912\u001b[0m     \u001b[39mfrom\u001b[39;00m \u001b[39msympy\u001b[39;00m\u001b[39m.\u001b[39;00m\u001b[39mtensor\u001b[39;00m\u001b[39m.\u001b[39;00m\u001b[39marray\u001b[39;00m\u001b[39m.\u001b[39;00m\u001b[39marray_derivatives\u001b[39;00m \u001b[39mimport\u001b[39;00m ArrayDerivative\n\u001b[0;32m   1913\u001b[0m     \u001b[39mreturn\u001b[39;00m ArrayDerivative(expr, \u001b[39m*\u001b[39mvariables, \u001b[39m*\u001b[39m\u001b[39m*\u001b[39mkwargs)\n\u001b[1;32m-> 1914\u001b[0m \u001b[39mreturn\u001b[39;00m Derivative(expr, \u001b[39m*\u001b[39mvariables, \u001b[39m*\u001b[39m\u001b[39m*\u001b[39mkwargs)\n",
      "File \u001b[1;32mc:\\Users\\didhw\\anaconda3\\Lib\\site-packages\\sympy\\core\\function.py:1339\u001b[0m, in \u001b[0;36mDerivative.__new__\u001b[1;34m(cls, expr, *variables, **kwargs)\u001b[0m\n\u001b[0;32m   1337\u001b[0m     \u001b[39mif\u001b[39;00m \u001b[39mnot\u001b[39;00m v\u001b[39m.\u001b[39m_diff_wrt:\n\u001b[0;32m   1338\u001b[0m         __ \u001b[39m=\u001b[39m \u001b[39m'\u001b[39m\u001b[39m'\u001b[39m  \u001b[39m# filler to make error message neater\u001b[39;00m\n\u001b[1;32m-> 1339\u001b[0m         \u001b[39mraise\u001b[39;00m \u001b[39mValueError\u001b[39;00m(filldedent(\u001b[39m'''\u001b[39m\n\u001b[0;32m   1340\u001b[0m \u001b[39m            Can\u001b[39m\u001b[39m'\u001b[39m\u001b[39mt calculate derivative wrt \u001b[39m\u001b[39m%s\u001b[39;00m\u001b[39m.\u001b[39m\u001b[39m%s\u001b[39;00m\u001b[39m'''\u001b[39m \u001b[39m%\u001b[39m (v,\n\u001b[0;32m   1341\u001b[0m             __)))\n\u001b[0;32m   1343\u001b[0m \u001b[39m# We make a special case for 0th derivative, because there is no\u001b[39;00m\n\u001b[0;32m   1344\u001b[0m \u001b[39m# good way to unambiguously print this.\u001b[39;00m\n\u001b[0;32m   1345\u001b[0m \u001b[39mif\u001b[39;00m \u001b[39mlen\u001b[39m(variable_count) \u001b[39m==\u001b[39m \u001b[39m0\u001b[39m:\n",
      "\u001b[1;31mValueError\u001b[0m: \nCan't calculate derivative wrt cos(heta)."
     ]
    }
   ],
   "source": [
    "P_l(2,theta)"
   ]
  },
  {
   "cell_type": "code",
   "execution_count": 8,
   "metadata": {},
   "outputs": [],
   "source": [
    "def P_l_m(m,l,theta):\n",
    "    \"\"\"Legendre polynomial\"\"\"\n",
    "    eq = diff(P_l(l,theta),cos(theta),Abs(m))\n",
    "    result = sin(theta)**Abs(m)*eq #note 1-cos^2(theta) = sin^2(theta)\n",
    "    return result"
   ]
  },
  {
   "cell_type": "code",
   "execution_count": 9,
   "metadata": {},
   "outputs": [
    {
     "ename": "ValueError",
     "evalue": "\nCan't calculate derivative wrt cos(heta).",
     "output_type": "error",
     "traceback": [
      "\u001b[1;31m---------------------------------------------------------------------------\u001b[0m",
      "\u001b[1;31mValueError\u001b[0m                                Traceback (most recent call last)",
      "Cell \u001b[1;32mIn[9], line 1\u001b[0m\n\u001b[1;32m----> 1\u001b[0m P_l_m(\u001b[39m1\u001b[39m,\u001b[39m1\u001b[39m,theta)\n",
      "Cell \u001b[1;32mIn[8], line 3\u001b[0m, in \u001b[0;36mP_l_m\u001b[1;34m(m, l, theta)\u001b[0m\n\u001b[0;32m      1\u001b[0m \u001b[39mdef\u001b[39;00m \u001b[39mP_l_m\u001b[39m(m,l,theta):\n\u001b[0;32m      2\u001b[0m \u001b[39m    \u001b[39m\u001b[39m\"\"\"Legendre polynomial\"\"\"\u001b[39;00m\n\u001b[1;32m----> 3\u001b[0m     eq \u001b[39m=\u001b[39m diff(P_l(l,theta),cos(theta),Abs(m))\n\u001b[0;32m      4\u001b[0m     result \u001b[39m=\u001b[39m sin(theta)\u001b[39m*\u001b[39m\u001b[39m*\u001b[39mAbs(m)\u001b[39m*\u001b[39meq \u001b[39m#note 1-cos^2(theta) = sin^2(theta)\u001b[39;00m\n\u001b[0;32m      5\u001b[0m     \u001b[39mreturn\u001b[39;00m result\n",
      "Cell \u001b[1;32mIn[3], line 4\u001b[0m, in \u001b[0;36mP_l\u001b[1;34m(l, theta)\u001b[0m\n\u001b[0;32m      2\u001b[0m \u001b[39m\u001b[39m\u001b[39m\"\"\"Legendre polynomial\"\"\"\u001b[39;00m\n\u001b[0;32m      3\u001b[0m \u001b[39mif\u001b[39;00m l\u001b[39m>\u001b[39m\u001b[39m=\u001b[39m\u001b[39m0\u001b[39m:\n\u001b[1;32m----> 4\u001b[0m     eq\u001b[39m=\u001b[39mdiff((cos(theta)\u001b[39m*\u001b[39m\u001b[39m*\u001b[39m\u001b[39m2\u001b[39m\u001b[39m-\u001b[39m\u001b[39m1\u001b[39m)\u001b[39m*\u001b[39m\u001b[39m*\u001b[39ml,cos(theta),l)\n\u001b[0;32m      5\u001b[0m \u001b[39melse\u001b[39;00m:\n\u001b[0;32m      6\u001b[0m     \u001b[39mprint\u001b[39m(\u001b[39m\"\u001b[39m\u001b[39ml must be an integer equal to 0 or greater\u001b[39m\u001b[39m\"\u001b[39m)\n",
      "File \u001b[1;32mc:\\Users\\didhw\\anaconda3\\Lib\\site-packages\\sympy\\core\\function.py:2490\u001b[0m, in \u001b[0;36mdiff\u001b[1;34m(f, *symbols, **kwargs)\u001b[0m\n\u001b[0;32m   2426\u001b[0m \u001b[39m\u001b[39m\u001b[39m\"\"\"\u001b[39;00m\n\u001b[0;32m   2427\u001b[0m \u001b[39mDifferentiate f with respect to symbols.\u001b[39;00m\n\u001b[0;32m   2428\u001b[0m \n\u001b[1;32m   (...)\u001b[0m\n\u001b[0;32m   2487\u001b[0m \n\u001b[0;32m   2488\u001b[0m \u001b[39m\"\"\"\u001b[39;00m\n\u001b[0;32m   2489\u001b[0m \u001b[39mif\u001b[39;00m \u001b[39mhasattr\u001b[39m(f, \u001b[39m'\u001b[39m\u001b[39mdiff\u001b[39m\u001b[39m'\u001b[39m):\n\u001b[1;32m-> 2490\u001b[0m     \u001b[39mreturn\u001b[39;00m f\u001b[39m.\u001b[39mdiff(\u001b[39m*\u001b[39msymbols, \u001b[39m*\u001b[39m\u001b[39m*\u001b[39mkwargs)\n\u001b[0;32m   2491\u001b[0m kwargs\u001b[39m.\u001b[39msetdefault(\u001b[39m'\u001b[39m\u001b[39mevaluate\u001b[39m\u001b[39m'\u001b[39m, \u001b[39mTrue\u001b[39;00m)\n\u001b[0;32m   2492\u001b[0m \u001b[39mreturn\u001b[39;00m _derivative_dispatch(f, \u001b[39m*\u001b[39msymbols, \u001b[39m*\u001b[39m\u001b[39m*\u001b[39mkwargs)\n",
      "File \u001b[1;32mc:\\Users\\didhw\\anaconda3\\Lib\\site-packages\\sympy\\core\\expr.py:3555\u001b[0m, in \u001b[0;36mExpr.diff\u001b[1;34m(self, *symbols, **assumptions)\u001b[0m\n\u001b[0;32m   3553\u001b[0m \u001b[39mdef\u001b[39;00m \u001b[39mdiff\u001b[39m(\u001b[39mself\u001b[39m, \u001b[39m*\u001b[39msymbols, \u001b[39m*\u001b[39m\u001b[39m*\u001b[39massumptions):\n\u001b[0;32m   3554\u001b[0m     assumptions\u001b[39m.\u001b[39msetdefault(\u001b[39m\"\u001b[39m\u001b[39mevaluate\u001b[39m\u001b[39m\"\u001b[39m, \u001b[39mTrue\u001b[39;00m)\n\u001b[1;32m-> 3555\u001b[0m     \u001b[39mreturn\u001b[39;00m _derivative_dispatch(\u001b[39mself\u001b[39m, \u001b[39m*\u001b[39msymbols, \u001b[39m*\u001b[39m\u001b[39m*\u001b[39massumptions)\n",
      "File \u001b[1;32mc:\\Users\\didhw\\anaconda3\\Lib\\site-packages\\sympy\\core\\function.py:1914\u001b[0m, in \u001b[0;36m_derivative_dispatch\u001b[1;34m(expr, *variables, **kwargs)\u001b[0m\n\u001b[0;32m   1912\u001b[0m     \u001b[39mfrom\u001b[39;00m \u001b[39msympy\u001b[39;00m\u001b[39m.\u001b[39;00m\u001b[39mtensor\u001b[39;00m\u001b[39m.\u001b[39;00m\u001b[39marray\u001b[39;00m\u001b[39m.\u001b[39;00m\u001b[39marray_derivatives\u001b[39;00m \u001b[39mimport\u001b[39;00m ArrayDerivative\n\u001b[0;32m   1913\u001b[0m     \u001b[39mreturn\u001b[39;00m ArrayDerivative(expr, \u001b[39m*\u001b[39mvariables, \u001b[39m*\u001b[39m\u001b[39m*\u001b[39mkwargs)\n\u001b[1;32m-> 1914\u001b[0m \u001b[39mreturn\u001b[39;00m Derivative(expr, \u001b[39m*\u001b[39mvariables, \u001b[39m*\u001b[39m\u001b[39m*\u001b[39mkwargs)\n",
      "File \u001b[1;32mc:\\Users\\didhw\\anaconda3\\Lib\\site-packages\\sympy\\core\\function.py:1339\u001b[0m, in \u001b[0;36mDerivative.__new__\u001b[1;34m(cls, expr, *variables, **kwargs)\u001b[0m\n\u001b[0;32m   1337\u001b[0m     \u001b[39mif\u001b[39;00m \u001b[39mnot\u001b[39;00m v\u001b[39m.\u001b[39m_diff_wrt:\n\u001b[0;32m   1338\u001b[0m         __ \u001b[39m=\u001b[39m \u001b[39m'\u001b[39m\u001b[39m'\u001b[39m  \u001b[39m# filler to make error message neater\u001b[39;00m\n\u001b[1;32m-> 1339\u001b[0m         \u001b[39mraise\u001b[39;00m \u001b[39mValueError\u001b[39;00m(filldedent(\u001b[39m'''\u001b[39m\n\u001b[0;32m   1340\u001b[0m \u001b[39m            Can\u001b[39m\u001b[39m'\u001b[39m\u001b[39mt calculate derivative wrt \u001b[39m\u001b[39m%s\u001b[39;00m\u001b[39m.\u001b[39m\u001b[39m%s\u001b[39;00m\u001b[39m'''\u001b[39m \u001b[39m%\u001b[39m (v,\n\u001b[0;32m   1341\u001b[0m             __)))\n\u001b[0;32m   1343\u001b[0m \u001b[39m# We make a special case for 0th derivative, because there is no\u001b[39;00m\n\u001b[0;32m   1344\u001b[0m \u001b[39m# good way to unambiguously print this.\u001b[39;00m\n\u001b[0;32m   1345\u001b[0m \u001b[39mif\u001b[39;00m \u001b[39mlen\u001b[39m(variable_count) \u001b[39m==\u001b[39m \u001b[39m0\u001b[39m:\n",
      "\u001b[1;31mValueError\u001b[0m: \nCan't calculate derivative wrt cos(heta)."
     ]
    }
   ],
   "source": [
    "P_l_m(1,1,theta)"
   ]
  },
  {
   "cell_type": "code",
   "execution_count": 10,
   "metadata": {},
   "outputs": [],
   "source": [
    "def Y_l_m(l,m,phi,theta):\n",
    "    \"\"\"Spherical harmonics\"\"\"\n",
    "    eq = P_l_m(m,l,theta)\n",
    "    if m>0:\n",
    "        pe=re(exp(I*m*phi))*sqrt(2)\n",
    "    elif m<0:\n",
    "        pe=im(exp(I*m*phi))*sqrt(2)\n",
    "    elif m==0:\n",
    "        pe=1\n",
    "    return abs(sqrt(((2*l+1)*fac(l-Abs(m)))/(4*pi*fac(l+Abs(m))))*pe*eq)"
   ]
  },
  {
   "cell_type": "code",
   "execution_count": 11,
   "metadata": {},
   "outputs": [
    {
     "ename": "ValueError",
     "evalue": "\nCan't calculate derivative wrt cos(heta).",
     "output_type": "error",
     "traceback": [
      "\u001b[1;31m---------------------------------------------------------------------------\u001b[0m",
      "\u001b[1;31mValueError\u001b[0m                                Traceback (most recent call last)",
      "Cell \u001b[1;32mIn[11], line 1\u001b[0m\n\u001b[1;32m----> 1\u001b[0m \u001b[39mprint\u001b[39m(Y_l_m(\u001b[39m1\u001b[39m,\u001b[39m1\u001b[39m,phi,theta))\n",
      "Cell \u001b[1;32mIn[10], line 3\u001b[0m, in \u001b[0;36mY_l_m\u001b[1;34m(l, m, phi, theta)\u001b[0m\n\u001b[0;32m      1\u001b[0m \u001b[39mdef\u001b[39;00m \u001b[39mY_l_m\u001b[39m(l,m,phi,theta):\n\u001b[0;32m      2\u001b[0m \u001b[39m    \u001b[39m\u001b[39m\"\"\"Spherical harmonics\"\"\"\u001b[39;00m\n\u001b[1;32m----> 3\u001b[0m     eq \u001b[39m=\u001b[39m P_l_m(m,l,theta)\n\u001b[0;32m      4\u001b[0m     \u001b[39mif\u001b[39;00m m\u001b[39m>\u001b[39m\u001b[39m0\u001b[39m:\n\u001b[0;32m      5\u001b[0m         pe\u001b[39m=\u001b[39mre(exp(I\u001b[39m*\u001b[39mm\u001b[39m*\u001b[39mphi))\u001b[39m*\u001b[39msqrt(\u001b[39m2\u001b[39m)\n",
      "Cell \u001b[1;32mIn[8], line 3\u001b[0m, in \u001b[0;36mP_l_m\u001b[1;34m(m, l, theta)\u001b[0m\n\u001b[0;32m      1\u001b[0m \u001b[39mdef\u001b[39;00m \u001b[39mP_l_m\u001b[39m(m,l,theta):\n\u001b[0;32m      2\u001b[0m \u001b[39m    \u001b[39m\u001b[39m\"\"\"Legendre polynomial\"\"\"\u001b[39;00m\n\u001b[1;32m----> 3\u001b[0m     eq \u001b[39m=\u001b[39m diff(P_l(l,theta),cos(theta),Abs(m))\n\u001b[0;32m      4\u001b[0m     result \u001b[39m=\u001b[39m sin(theta)\u001b[39m*\u001b[39m\u001b[39m*\u001b[39mAbs(m)\u001b[39m*\u001b[39meq \u001b[39m#note 1-cos^2(theta) = sin^2(theta)\u001b[39;00m\n\u001b[0;32m      5\u001b[0m     \u001b[39mreturn\u001b[39;00m result\n",
      "Cell \u001b[1;32mIn[3], line 4\u001b[0m, in \u001b[0;36mP_l\u001b[1;34m(l, theta)\u001b[0m\n\u001b[0;32m      2\u001b[0m \u001b[39m\u001b[39m\u001b[39m\"\"\"Legendre polynomial\"\"\"\u001b[39;00m\n\u001b[0;32m      3\u001b[0m \u001b[39mif\u001b[39;00m l\u001b[39m>\u001b[39m\u001b[39m=\u001b[39m\u001b[39m0\u001b[39m:\n\u001b[1;32m----> 4\u001b[0m     eq\u001b[39m=\u001b[39mdiff((cos(theta)\u001b[39m*\u001b[39m\u001b[39m*\u001b[39m\u001b[39m2\u001b[39m\u001b[39m-\u001b[39m\u001b[39m1\u001b[39m)\u001b[39m*\u001b[39m\u001b[39m*\u001b[39ml,cos(theta),l)\n\u001b[0;32m      5\u001b[0m \u001b[39melse\u001b[39;00m:\n\u001b[0;32m      6\u001b[0m     \u001b[39mprint\u001b[39m(\u001b[39m\"\u001b[39m\u001b[39ml must be an integer equal to 0 or greater\u001b[39m\u001b[39m\"\u001b[39m)\n",
      "File \u001b[1;32mc:\\Users\\didhw\\anaconda3\\Lib\\site-packages\\sympy\\core\\function.py:2490\u001b[0m, in \u001b[0;36mdiff\u001b[1;34m(f, *symbols, **kwargs)\u001b[0m\n\u001b[0;32m   2426\u001b[0m \u001b[39m\u001b[39m\u001b[39m\"\"\"\u001b[39;00m\n\u001b[0;32m   2427\u001b[0m \u001b[39mDifferentiate f with respect to symbols.\u001b[39;00m\n\u001b[0;32m   2428\u001b[0m \n\u001b[1;32m   (...)\u001b[0m\n\u001b[0;32m   2487\u001b[0m \n\u001b[0;32m   2488\u001b[0m \u001b[39m\"\"\"\u001b[39;00m\n\u001b[0;32m   2489\u001b[0m \u001b[39mif\u001b[39;00m \u001b[39mhasattr\u001b[39m(f, \u001b[39m'\u001b[39m\u001b[39mdiff\u001b[39m\u001b[39m'\u001b[39m):\n\u001b[1;32m-> 2490\u001b[0m     \u001b[39mreturn\u001b[39;00m f\u001b[39m.\u001b[39mdiff(\u001b[39m*\u001b[39msymbols, \u001b[39m*\u001b[39m\u001b[39m*\u001b[39mkwargs)\n\u001b[0;32m   2491\u001b[0m kwargs\u001b[39m.\u001b[39msetdefault(\u001b[39m'\u001b[39m\u001b[39mevaluate\u001b[39m\u001b[39m'\u001b[39m, \u001b[39mTrue\u001b[39;00m)\n\u001b[0;32m   2492\u001b[0m \u001b[39mreturn\u001b[39;00m _derivative_dispatch(f, \u001b[39m*\u001b[39msymbols, \u001b[39m*\u001b[39m\u001b[39m*\u001b[39mkwargs)\n",
      "File \u001b[1;32mc:\\Users\\didhw\\anaconda3\\Lib\\site-packages\\sympy\\core\\expr.py:3555\u001b[0m, in \u001b[0;36mExpr.diff\u001b[1;34m(self, *symbols, **assumptions)\u001b[0m\n\u001b[0;32m   3553\u001b[0m \u001b[39mdef\u001b[39;00m \u001b[39mdiff\u001b[39m(\u001b[39mself\u001b[39m, \u001b[39m*\u001b[39msymbols, \u001b[39m*\u001b[39m\u001b[39m*\u001b[39massumptions):\n\u001b[0;32m   3554\u001b[0m     assumptions\u001b[39m.\u001b[39msetdefault(\u001b[39m\"\u001b[39m\u001b[39mevaluate\u001b[39m\u001b[39m\"\u001b[39m, \u001b[39mTrue\u001b[39;00m)\n\u001b[1;32m-> 3555\u001b[0m     \u001b[39mreturn\u001b[39;00m _derivative_dispatch(\u001b[39mself\u001b[39m, \u001b[39m*\u001b[39msymbols, \u001b[39m*\u001b[39m\u001b[39m*\u001b[39massumptions)\n",
      "File \u001b[1;32mc:\\Users\\didhw\\anaconda3\\Lib\\site-packages\\sympy\\core\\function.py:1914\u001b[0m, in \u001b[0;36m_derivative_dispatch\u001b[1;34m(expr, *variables, **kwargs)\u001b[0m\n\u001b[0;32m   1912\u001b[0m     \u001b[39mfrom\u001b[39;00m \u001b[39msympy\u001b[39;00m\u001b[39m.\u001b[39;00m\u001b[39mtensor\u001b[39;00m\u001b[39m.\u001b[39;00m\u001b[39marray\u001b[39;00m\u001b[39m.\u001b[39;00m\u001b[39marray_derivatives\u001b[39;00m \u001b[39mimport\u001b[39;00m ArrayDerivative\n\u001b[0;32m   1913\u001b[0m     \u001b[39mreturn\u001b[39;00m ArrayDerivative(expr, \u001b[39m*\u001b[39mvariables, \u001b[39m*\u001b[39m\u001b[39m*\u001b[39mkwargs)\n\u001b[1;32m-> 1914\u001b[0m \u001b[39mreturn\u001b[39;00m Derivative(expr, \u001b[39m*\u001b[39mvariables, \u001b[39m*\u001b[39m\u001b[39m*\u001b[39mkwargs)\n",
      "File \u001b[1;32mc:\\Users\\didhw\\anaconda3\\Lib\\site-packages\\sympy\\core\\function.py:1339\u001b[0m, in \u001b[0;36mDerivative.__new__\u001b[1;34m(cls, expr, *variables, **kwargs)\u001b[0m\n\u001b[0;32m   1337\u001b[0m     \u001b[39mif\u001b[39;00m \u001b[39mnot\u001b[39;00m v\u001b[39m.\u001b[39m_diff_wrt:\n\u001b[0;32m   1338\u001b[0m         __ \u001b[39m=\u001b[39m \u001b[39m'\u001b[39m\u001b[39m'\u001b[39m  \u001b[39m# filler to make error message neater\u001b[39;00m\n\u001b[1;32m-> 1339\u001b[0m         \u001b[39mraise\u001b[39;00m \u001b[39mValueError\u001b[39;00m(filldedent(\u001b[39m'''\u001b[39m\n\u001b[0;32m   1340\u001b[0m \u001b[39m            Can\u001b[39m\u001b[39m'\u001b[39m\u001b[39mt calculate derivative wrt \u001b[39m\u001b[39m%s\u001b[39;00m\u001b[39m.\u001b[39m\u001b[39m%s\u001b[39;00m\u001b[39m'''\u001b[39m \u001b[39m%\u001b[39m (v,\n\u001b[0;32m   1341\u001b[0m             __)))\n\u001b[0;32m   1343\u001b[0m \u001b[39m# We make a special case for 0th derivative, because there is no\u001b[39;00m\n\u001b[0;32m   1344\u001b[0m \u001b[39m# good way to unambiguously print this.\u001b[39;00m\n\u001b[0;32m   1345\u001b[0m \u001b[39mif\u001b[39;00m \u001b[39mlen\u001b[39m(variable_count) \u001b[39m==\u001b[39m \u001b[39m0\u001b[39m:\n",
      "\u001b[1;31mValueError\u001b[0m: \nCan't calculate derivative wrt cos(heta)."
     ]
    }
   ],
   "source": [
    "print(Y_l_m(1,1,phi,theta))"
   ]
  },
  {
   "cell_type": "code",
   "execution_count": 12,
   "metadata": {},
   "outputs": [],
   "source": [
    "\n",
    "def L(l,n,rho):\n",
    "    \"\"\"Laguerre polynomial\"\"\"\n",
    "    _L = 0.\n",
    "    for i in range((n-l-1)+1): #using a loop to do the summation \n",
    "        _L += ((-i)**i*fac(n+l)**2.*rho**i)/(fac(i)*fac(n-l-1.-i)*\\\n",
    "                                          fac(2.*l+1.+i))\n",
    "    return _L\n",
    "\n",
    "def R(r,n,l,z=1.,a_0=1.):\n",
    "    \"\"\"Radial function\"\"\"\n",
    "    rho = 2.*z*r/(n*a_0)\n",
    "    _L = L(l,n,rho)\n",
    "    _R = (2.*z/(n*a_0))**(3./2.)*sqrt(fac(n-l-1.)/\\\n",
    "         (2.*n*fac(n+l)**3.))*exp(-z/(n*a_0)*r)*rho**l*_L\n",
    "    return _R\n",
    "     "
   ]
  },
  {
   "cell_type": "code",
   "execution_count": 13,
   "metadata": {},
   "outputs": [],
   "source": [
    "def Psi(r,n,l,m,phi,theta,z=1,a_0=1):\n",
    "    \"\"\"Wavefunction\"\"\"\n",
    "    _Y = Y_l_m(l,m,phi,theta)\n",
    "    _R = R(r,n,l)\n",
    "    return _R*_Y\n",
    "\n",
    "def P(r,n,l,m,phi,theta):\n",
    "    \"\"\"Returns the symbolic equation probability of the location \n",
    "    of an electron\"\"\"\n",
    "    return Psi(r,n,l,m,phi,theta)**2*r**2"
   ]
  },
  {
   "cell_type": "code",
   "execution_count": 14,
   "metadata": {},
   "outputs": [],
   "source": [
    "r_fun = lambda _x,_y,_z: (np.sqrt(_x**2+_y**2+_z**2))\n",
    "theta_fun = lambda _x,_y,_z: (np.arccos(_z/r_fun(_x,_y,_z)))\n",
    "phi_fun = lambda _x,_y,_z: (np.arctan(_y/_x)*(1+_z-_z))\n",
    "\n",
    "def display_orbital(n,l,m_,no_of_contours = 16,Opaque=0.5):\n",
    "    \"\"\"Diplays a 3D view of electron orbitals\"\"\"\n",
    "    #The plot density settings (don't mess with unless you are sure)\n",
    "    rng = 12*n*1.5 #This determines the size of the box \n",
    "    _steps = 55j#           (it needs to be bigger with n).\n",
    "    _x,_y,_z = np.ogrid[-rng:rng:_steps,-rng:rng:_steps,-rng:rng:_steps]\n",
    "    \n",
    "    #Plot tweaks\n",
    "    color = (0,1.0,1.0) #relative RGB color (0-1.0 vs 0-255)\n",
    "    mlab.figure(bgcolor=color) #set the background color of the plot\n",
    "    \n",
    "    \n",
    "    P_tex = \"\" #initialize the LaTex string of the probabilities\n",
    "    \n",
    "    #Validate the quantum numbers\n",
    "    assert(n>=1), \"n must be greater or equal to 1\"       #validate the value of n\n",
    "    assert(0<=l<=n-1), \"l must be between 0 and n-1\"      #validate the value of l\n",
    "    assert(-l<=max(m_)<=l), \"p must be between -l and l\"  #validate the value of p\n",
    "    assert(-l<=min(m_)<=l), \"p must be between -l and l\"  #validate the value of p\n",
    "    \n",
    "        \n",
    "    for m in m_:\n",
    "        #Determine the probability equation symbolically and convert\n",
    "        #it to a string\n",
    "        prob = lambdastr((radius,angle_phi,angle_theta), P(radius,n,l,m,\n",
    "                                                           angle_phi,\n",
    "                                                           angle_theta))\n",
    "        \n",
    "        #record the probability equation as a LaTex string\n",
    "        P_eq = simplify(P(r,n,l,m,phi,theta))\n",
    "        P_tex+=\"$$P =\"+latex(P_eq)+\"$$ \\n\\n \" \n",
    "        \n",
    "        \n",
    "        #print(\"prob before substitution = \\n\\n\".format(prob)) #for debugging\n",
    "        \n",
    "        if '(nan)' in prob: #Check for errors in the equation\n",
    "            print(\"There is a problem with the probability function.\")\n",
    "            raise ValueError\n",
    "        \n",
    "        #Convert the finctions in the probability equation from the sympy  \n",
    "        #library to the numpy library to allow for the use of matrix \n",
    "        #calculations\n",
    "        prob = prob.replace('sin','np.sin') #convert to numpy\n",
    "        prob = prob.replace('cos','np.cos') #convert to numpy\n",
    "        prob = prob.replace('Abs','np.abs') #convert to numpy\n",
    "        prob = prob.replace('pi','np.pi')   #convert to numpy\n",
    "        prob = prob.replace('exp','np.exp') #convert to numpy\n",
    "        \n",
    "        #print(\"prob after substitution = \\n\\n\".format(prob)) #for debugging\n",
    "        \n",
    "        #convert the converted string to a callable function\n",
    "        Prob = eval(prob)\n",
    "        \n",
    "        #generate a set of data to plot the contours of.\n",
    "        w = Prob(r_fun(_x,_y,_z),phi_fun(_x,_y,_z),theta_fun(_x,_y,_z))\n",
    "        \n",
    "        #add the generated data to the plot\n",
    "        mlab.contour3d(w,contours=no_of_contours,opacity = Opaque, transparent=True)\n",
    "    \n",
    "    mlab.colorbar()\n",
    "    mlab.outline()\n",
    "    mlab.show() #this pops up a interactive window that allows you to \n",
    "    #            rotate the view\n",
    "    \n",
    "\n",
    "    #Information used for the 2D slices below\n",
    "    limits = []\n",
    "    lengths = []\n",
    "    for cor in (_x,_y,_z):\n",
    "        limit = (np.min(cor),np.max(cor))\n",
    "        limits.append(limit)\n",
    "        #print(np.size(cor))\n",
    "        lengths.append(np.size(cor))\n",
    "        #print(limit)\n",
    "    return (limits, lengths, _x, _y, _z, P_tex)\n",
    "     "
   ]
  },
  {
   "cell_type": "code",
   "execution_count": 17,
   "metadata": {},
   "outputs": [
    {
     "name": "stdout",
     "output_type": "stream",
     "text": [
      "n must be greater or equal to 1.\n",
      "\n",
      "\n",
      "The next value, m, determines which specific orbital will be displayed.\n",
      "Enter a value(s) for m such that -l <= m <= l.\n",
      "m can be a single number for a single orbital or a range for multiple.\n",
      "\n",
      "Electron orbitals are traditionally displayed at a 95% confidence interval.  \n",
      "The isosurface you would see is at a P value that depends on the principal \n",
      "quantum number and the shape of the orbital.  They are analogous to the height \n",
      "on a normal probability density function plot.  In displaying this surface \n",
      "the mayavi library is picking the confidence interval value for you, however \n",
      "some control can be had by setting number of isosuface contours.  \n",
      "I have found that 16 is a good place to start, however on older computers there \n",
      "may be a problem rendering more than 7.\n",
      "\n",
      "In order to see the various probability surfaces you can set the opacity of the \n",
      "plot from 0 to 1\n"
     ]
    },
    {
     "ename": "NameError",
     "evalue": "name 'mlab' is not defined",
     "output_type": "error",
     "traceback": [
      "\u001b[1;31m---------------------------------------------------------------------------\u001b[0m",
      "\u001b[1;31mNameError\u001b[0m                                 Traceback (most recent call last)",
      "Cell \u001b[1;32mIn[17], line 47\u001b[0m\n\u001b[0;32m     45\u001b[0m \u001b[39mwith\u001b[39;00m warnings\u001b[39m.\u001b[39mcatch_warnings():\n\u001b[0;32m     46\u001b[0m     warnings\u001b[39m.\u001b[39msimplefilter(\u001b[39m\"\u001b[39m\u001b[39mignore\u001b[39m\u001b[39m\"\u001b[39m)\n\u001b[1;32m---> 47\u001b[0m     limits, lengths, _x, _y, _z, P_tex \u001b[39m=\u001b[39m display_orbital(n,l,m_,n_o_c,opacity)\n\u001b[0;32m     49\u001b[0m txt \u001b[39m=\u001b[39m \u001b[39mr\u001b[39m\u001b[39m\"\u001b[39m\u001b[39m \u001b[39m\u001b[39m\"\u001b[39m\n\u001b[0;32m     50\u001b[0m Latex(txt\u001b[39m+\u001b[39mP_tex)\n",
      "Cell \u001b[1;32mIn[14], line 14\u001b[0m, in \u001b[0;36mdisplay_orbital\u001b[1;34m(n, l, m_, no_of_contours, Opaque)\u001b[0m\n\u001b[0;32m     12\u001b[0m \u001b[39m#Plot tweaks\u001b[39;00m\n\u001b[0;32m     13\u001b[0m color \u001b[39m=\u001b[39m (\u001b[39m0\u001b[39m,\u001b[39m1.0\u001b[39m,\u001b[39m1.0\u001b[39m) \u001b[39m#relative RGB color (0-1.0 vs 0-255)\u001b[39;00m\n\u001b[1;32m---> 14\u001b[0m mlab\u001b[39m.\u001b[39mfigure(bgcolor\u001b[39m=\u001b[39mcolor) \u001b[39m#set the background color of the plot\u001b[39;00m\n\u001b[0;32m     17\u001b[0m P_tex \u001b[39m=\u001b[39m \u001b[39m\"\u001b[39m\u001b[39m\"\u001b[39m \u001b[39m#initialize the LaTex string of the probabilities\u001b[39;00m\n\u001b[0;32m     19\u001b[0m \u001b[39m#Validate the quantum numbers\u001b[39;00m\n",
      "\u001b[1;31mNameError\u001b[0m: name 'mlab' is not defined"
     ]
    }
   ],
   "source": [
    "#    Set the quantum numbers for the orbitals (all in one spot)\n",
    "import warnings # in order to suppress divide_by_zero warnings...\n",
    "\n",
    "print(\"n must be greater or equal to 1.\")\n",
    "n = int(input(\"Entry the quantum number for n = \"))\n",
    "\n",
    "print(\"\")\n",
    "l_str = input(\"Enter a value for l such that it is less than n (default l=n-1) l = \")\n",
    "if l_str==\"\":\n",
    "    l=n-1\n",
    "else:\n",
    "    l = int(l_str)\n",
    "\n",
    "print(\"\\nThe next value, m, determines which specific orbital will be displayed.\")\n",
    "print(\"Enter a value(s) for m such that -l <= m <= l.\\n\"+\\\n",
    "      \"m can be a single number for a single orbital or a range for multiple.\")\n",
    "m_str = input(\"Enter a number like, 2, or a range like, -2, 2.  m = \")\n",
    "if \",\" in m_str:\n",
    "    _m = eval(\"(\"+m_str+\")\")\n",
    "    m_ = range(_m[0],_m[1]+1,1)\n",
    "else:\n",
    "    m_ = [int(m_str)]\n",
    "\n",
    "print(\"\\nElectron orbitals are traditionally displayed at a 95% confidence interval.  \")\n",
    "print(\"The isosurface you would see is at a P value that depends on the principal \")\n",
    "print(\"quantum number and the shape of the orbital.  They are analogous to the height \")\n",
    "print(\"on a normal probability density function plot.  In displaying this surface \")\n",
    "print(\"the mayavi library is picking the confidence interval value for you, however \")\n",
    "print(\"some control can be had by setting number of isosuface contours.  \")\n",
    "print\n",
    "print(\"I have found that 16 is a good place to start, however on older computers there \")\n",
    "print(\"may be a problem rendering more than 7.\")\n",
    "n_o_c = input(\"\\nEnter the number of isosurface contours to be displayed:[Default = 16] \")\n",
    "if n_o_c==\"\":\n",
    "    n_o_c = 16\n",
    "else:\n",
    "    n_o_c = abs(int(n_o_c))\n",
    "print(\"\\nIn order to see the various probability surfaces you can set the opacity of the \")\n",
    "print(\"plot from 0 to 1\")\n",
    "opacity = input(\"Enter the opacity of the orbital plot:[Range 0 - 1, Default = 0.5] \")\n",
    "if opacity==\"\":\n",
    "    opacity = 0.5\n",
    "else:\n",
    "    opacity = abs(float(opacity))\n",
    "with warnings.catch_warnings():\n",
    "    warnings.simplefilter(\"ignore\")\n",
    "    limits, lengths, _x, _y, _z, P_tex = display_orbital(n,l,m_,n_o_c,opacity)\n",
    "\n",
    "txt = r\" \"\n",
    "Latex(txt+P_tex)\n"
   ]
  },
  {
   "cell_type": "code",
   "execution_count": null,
   "metadata": {},
   "outputs": [],
   "source": []
  }
 ],
 "metadata": {
  "kernelspec": {
   "display_name": "base",
   "language": "python",
   "name": "python3"
  },
  "language_info": {
   "codemirror_mode": {
    "name": "ipython",
    "version": 3
   },
   "file_extension": ".py",
   "mimetype": "text/x-python",
   "name": "python",
   "nbconvert_exporter": "python",
   "pygments_lexer": "ipython3",
   "version": "3.11.3"
  },
  "orig_nbformat": 4
 },
 "nbformat": 4,
 "nbformat_minor": 2
}
